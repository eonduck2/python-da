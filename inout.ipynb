{
 "cells": [
  {
   "cell_type": "code",
   "execution_count": 27,
   "metadata": {},
   "outputs": [
    {
     "name": "stdout",
     "output_type": "stream",
     "text": [
      "내 성은 이 이고, 이름은 종수입니다.\n"
     ]
    }
   ],
   "source": [
    "my_last = input(\"성 입력: \")\n",
    "my_first = input(\"이름 입력: \")\n",
    "\n",
    "def print_name(last, first):\n",
    "    print(f\"내 성은 {last} 이고, 이름은 {first}입니다.\")\n",
    "\n",
    "print_name(my_last, my_first)"
   ]
  },
  {
   "cell_type": "code",
   "execution_count": 28,
   "metadata": {},
   "outputs": [
    {
     "name": "stdout",
     "output_type": "stream",
     "text": [
      "내 성은 \"이\"이고, 이름은 \"종수\"입니다.\n"
     ]
    }
   ],
   "source": [
    "my_name = input(\"이름: \")\n",
    "\n",
    "def print_name(name):\n",
    "    print(f'내 성은 \"{name[0]}\"이고, 이름은 \"{name[1]+name[2]}\"입니다.')\n",
    "\n",
    "print_name(my_name)"
   ]
  }
 ],
 "metadata": {
  "kernelspec": {
   "display_name": "Python 3",
   "language": "python",
   "name": "python3"
  },
  "language_info": {
   "codemirror_mode": {
    "name": "ipython",
    "version": 3
   },
   "file_extension": ".py",
   "mimetype": "text/x-python",
   "name": "python",
   "nbconvert_exporter": "python",
   "pygments_lexer": "ipython3",
   "version": "3.8.10"
  }
 },
 "nbformat": 4,
 "nbformat_minor": 2
}
